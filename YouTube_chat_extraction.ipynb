{
  "nbformat": 4,
  "nbformat_minor": 0,
  "metadata": {
    "colab": {
      "provenance": [],
      "authorship_tag": "ABX9TyOqTutAfv9UScLMLbiph3yU",
      "include_colab_link": true
    },
    "kernelspec": {
      "name": "python3",
      "display_name": "Python 3"
    },
    "language_info": {
      "name": "python"
    }
  },
  "cells": [
    {
      "cell_type": "markdown",
      "metadata": {
        "id": "view-in-github",
        "colab_type": "text"
      },
      "source": [
        "<a href=\"https://colab.research.google.com/github/iammtg/youtube-live-chat/blob/master/YouTube_chat_extraction.ipynb\" target=\"_parent\"><img src=\"https://colab.research.google.com/assets/colab-badge.svg\" alt=\"Open In Colab\"/></a>"
      ]
    },
    {
      "cell_type": "code",
      "execution_count": null,
      "metadata": {
        "id": "fyVI95BvXDV3"
      },
      "outputs": [],
      "source": [
        "%%capture\n",
        "!pip install yt-dlp"
      ]
    },
    {
      "cell_type": "code",
      "source": [
        "youtube_url = \"https://www.youtube.com/watch?v=Vk0w-bgUrUA&t=11675s\"#@param {type:\"string\"}"
      ],
      "metadata": {
        "id": "ExMYXkRqXKKz"
      },
      "execution_count": null,
      "outputs": []
    },
    {
      "cell_type": "code",
      "source": [
        "import re\n",
        "def remove_timestamp_from_youtube_url(url):\n",
        "    # 正規表現パターンでタイムスタンプを検索して除去する\n",
        "    pattern = r'(&|\\?)t=\\d+s?'\n",
        "    clean_url = re.sub(pattern, '', url)\n",
        "    return clean_url\n",
        "youtube_url = remove_timestamp_from_youtube_url(youtube_url)"
      ],
      "metadata": {
        "id": "M-NwWjcOZaoK"
      },
      "execution_count": null,
      "outputs": []
    },
    {
      "cell_type": "code",
      "source": [
        "!yt-dlp --cookies /content/cookies.txt --write-sub --sub-lang live_chat --skip-download $youtube_url -o livechat"
      ],
      "metadata": {
        "colab": {
          "base_uri": "https://localhost:8080/"
        },
        "id": "ui1wqWZVhplE",
        "outputId": "25375f86-1d9a-46ba-aa33-9e1f8c2cb838",
        "collapsed": true
      },
      "execution_count": null,
      "outputs": [
        {
          "output_type": "stream",
          "name": "stdout",
          "text": [
            "[youtube] Extracting URL: https://www.youtube.com/watch?v=Vk0w-bgUrUA\n",
            "[youtube] Vk0w-bgUrUA: Downloading webpage\n",
            "[youtube] Vk0w-bgUrUA: Downloading ios player API JSON\n",
            "[youtube] Vk0w-bgUrUA: Downloading m3u8 information\n",
            "[info] Vk0w-bgUrUA: Downloading subtitles: live_chat\n",
            "[info] Vk0w-bgUrUA: Downloading 1 format(s): 303+251\n",
            "Deleting existing file livechat.live_chat.json\n",
            "[info] Writing video subtitles to: livechat.live_chat.json\n",
            "[youtube_live_chat] Downloading live chat\n",
            "[youtube_live_chat] Total fragments: unknown (live)\n",
            "[download] Destination: livechat.live_chat.json\n",
            "\u001b[K[download] 100% of   15.10MiB in \u001b[1;37m00:00:13\u001b[0m at \u001b[0;32m1.10MiB/s\u001b[0m\n"
          ]
        }
      ]
    },
    {
      "cell_type": "code",
      "source": [
        "import json\n",
        "filename = '/content/livechat.live_chat.json'\n",
        "output_filename = \"chat.txt\"  # 出力するファイル名を設定\n",
        "\n",
        "def save_messages_to_file(filename_in, filename_out):\n",
        "    try:\n",
        "        with open(filename_in, 'r', encoding='utf-8') as f_in, open(filename_out, 'w', encoding='utf-8') as f_out:\n",
        "            lines = f_in.readlines()\n",
        "\n",
        "            for line in lines:\n",
        "                try:\n",
        "                    data = json.loads(line.strip())\n",
        "                    if 'liveChatTextMessageRenderer' in data.get('replayChatItemAction', {}).get('actions', [{}])[0].get('addChatItemAction', {}).get('item', {}):\n",
        "                        message = data['replayChatItemAction']['actions'][0]['addChatItemAction']['item']['liveChatTextMessageRenderer']['message']['runs'][0]['text']\n",
        "                        timestamp = data['replayChatItemAction']['actions'][0]['addChatItemAction']['item']['liveChatTextMessageRenderer']['timestampText']['simpleText']\n",
        "                        f_out.write(f\"{timestamp}\\t{message}\\n\")\n",
        "                        #print(f\"{timestamp}\\t{message}\")\n",
        "                    else:\n",
        "                        # f_out.write(\"No message found.\\n\")\n",
        "                        pass\n",
        "                except json.JSONDecodeError as e:\n",
        "                    print(f\"JSONDecodeError on line: {line.strip()}\")\n",
        "                    print(f\"Error: {e.msg} at line {e.lineno}, column {e.colno}\")\n",
        "                except Exception as e:\n",
        "                    # print(f\"Unexpected error: {e}\")\n",
        "                    pass\n",
        "\n",
        "    except Exception as e:\n",
        "        print(f\"Error: {e}\")\n",
        "\n",
        "# メッセージとタイムスタンプをファイルに保存\n",
        "save_messages_to_file(filename, output_filename)\n",
        "\n",
        "print(f\"Messages saved to {output_filename}.\")"
      ],
      "metadata": {
        "colab": {
          "base_uri": "https://localhost:8080/"
        },
        "id": "dpIvSPDjnFNY",
        "outputId": "2cc8a1bf-972d-48e3-f696-10be74fbac50"
      },
      "execution_count": null,
      "outputs": [
        {
          "output_type": "stream",
          "name": "stdout",
          "text": [
            "Messages saved to chat.txt.\n"
          ]
        }
      ]
    },
    {
      "cell_type": "code",
      "source": [
        "search_words = \"助かる ASMR\" # @param {type:\"string\"}\n",
        "search_strings = search_words.split(' ')\n",
        "search_mode = \"AND\" # @param [\"OR\", \"AND\"]"
      ],
      "metadata": {
        "id": "y8BZ69YrabG8"
      },
      "execution_count": null,
      "outputs": []
    },
    {
      "cell_type": "code",
      "source": [
        "def convert_timestamp_to_seconds(timestamp):\n",
        "    parts = timestamp.split(':')\n",
        "    if len(parts) == 2:\n",
        "        hours, minutes = 0, int(parts[0])\n",
        "        seconds = int(parts[1])\n",
        "    elif len(parts) == 3:\n",
        "        hours = int(parts[0])\n",
        "        minutes = int(parts[1])\n",
        "        seconds = int(parts[2])\n",
        "    else:\n",
        "        raise ValueError(\"Invalid timestamp format\")\n",
        "\n",
        "    total_seconds = hours * 3600 + minutes * 60 + seconds - 15\n",
        "    return total_seconds\n",
        "\n",
        "def search_strings_in_file(file_path, search_strings, search_mode='OR', youtube_url=''):\n",
        "    try:\n",
        "        with open(file_path, 'r', encoding='utf-8') as file:\n",
        "            lines = file.readlines()\n",
        "\n",
        "        if search_mode.upper() == 'OR':\n",
        "            matching_lines = [line.strip() for line in lines if any(search_string in line for search_string in search_strings)]\n",
        "        elif search_mode.upper() == 'AND':\n",
        "            matching_lines = [line.strip() for line in lines if all(search_string in line for search_string in search_strings)]\n",
        "        else:\n",
        "            matching_lines = [line.strip() for line in lines]\n",
        "\n",
        "        if matching_lines:\n",
        "            print(f\"Lines containing {search_mode} of {search_strings}:\")\n",
        "            for line in matching_lines:\n",
        "                parts = line.split('\\t')\n",
        "                timestamp = parts[0]\n",
        "                content = '\\t'.join(parts[1:])\n",
        "\n",
        "                # Convert timestamp to seconds\n",
        "                seconds = convert_timestamp_to_seconds(timestamp)\n",
        "\n",
        "                # Generate YouTube URL\n",
        "                youtube_link = f\"{youtube_url}&t={seconds}\"\n",
        "\n",
        "                # Print line with YouTube URL\n",
        "                print(f\"{timestamp} {content} {youtube_link}\")\n",
        "        else:\n",
        "            print(f\"No lines containing {search_mode} of {search_strings} found.\")\n",
        "\n",
        "    except FileNotFoundError:\n",
        "        print(f\"The file at {file_path} was not found.\")\n",
        "    except Exception as e:\n",
        "        print(f\"An error occurred: {e}\")\n",
        "\n",
        "# 検索文字列と検索モードを指定して関数を呼び出す\n",
        "search_mode = 'OR'  # 'OR' または 'AND' を指定\n",
        "search_strings_in_file(output_filename, search_strings, search_mode, youtube_url)"
      ],
      "metadata": {
        "colab": {
          "base_uri": "https://localhost:8080/"
        },
        "id": "fQKkO9LcYu4L",
        "outputId": "588edc1d-dae7-4b13-c0e4-c71327e51a5b"
      },
      "execution_count": null,
      "outputs": [
        {
          "output_type": "stream",
          "name": "stdout",
          "text": [
            "Lines containing OR of ['助かる', 'ASMR']:\n",
            "0:21 神OP助かる https://www.youtube.com/watch?v=Vk0w-bgUrUA&t=6\n",
            "33:36 はいASMR開始ー https://www.youtube.com/watch?v=Vk0w-bgUrUA&t=2001\n",
            "41:20 コンビーフ助かる https://www.youtube.com/watch?v=Vk0w-bgUrUA&t=2465\n",
            "59:09 ASMRうおおおおおおお https://www.youtube.com/watch?v=Vk0w-bgUrUA&t=3534\n",
            "59:15 ASMRきちゃ https://www.youtube.com/watch?v=Vk0w-bgUrUA&t=3540\n",
            "59:16 ASMR！ https://www.youtube.com/watch?v=Vk0w-bgUrUA&t=3541\n",
            "59:21 ASMRたすかる https://www.youtube.com/watch?v=Vk0w-bgUrUA&t=3546\n",
            "59:23 ASMRきちゃー https://www.youtube.com/watch?v=Vk0w-bgUrUA&t=3548\n",
            "59:23 ASMRたすかる https://www.youtube.com/watch?v=Vk0w-bgUrUA&t=3548\n",
            "1:07:58 FA助かる https://www.youtube.com/watch?v=Vk0w-bgUrUA&t=4063\n",
            "1:30:57 バランスボールASMR? https://www.youtube.com/watch?v=Vk0w-bgUrUA&t=5442\n",
            "1:32:55 しゅっしゅっ助かる https://www.youtube.com/watch?v=Vk0w-bgUrUA&t=5560\n",
            "1:48:36 しゅっしゅん助かる https://www.youtube.com/watch?v=Vk0w-bgUrUA&t=6501\n",
            "1:49:54 左下にASMRが https://www.youtube.com/watch?v=Vk0w-bgUrUA&t=6579\n",
            "1:50:16 夜見のASMRもききたいね https://www.youtube.com/watch?v=Vk0w-bgUrUA&t=6601\n",
            "1:50:29 ASMRは輪を広げやすい https://www.youtube.com/watch?v=Vk0w-bgUrUA&t=6614\n",
            "1:50:31 ASMR https://www.youtube.com/watch?v=Vk0w-bgUrUA&t=6616\n",
            "1:51:38 添い寝ASMR https://www.youtube.com/watch?v=Vk0w-bgUrUA&t=6683\n",
            "1:52:44 ASMRなんてねそんなもんよ https://www.youtube.com/watch?v=Vk0w-bgUrUA&t=6749\n",
            "2:12:22 もうASMR配信できないねえ https://www.youtube.com/watch?v=Vk0w-bgUrUA&t=7927\n",
            "2:21:57 ASMR配信なら好感度が下がる可能性 https://www.youtube.com/watch?v=Vk0w-bgUrUA&t=8502\n",
            "2:40:40 ASMRたすかる https://www.youtube.com/watch?v=Vk0w-bgUrUA&t=9625\n",
            "2:48:46 すごいASMRだな https://www.youtube.com/watch?v=Vk0w-bgUrUA&t=10111\n",
            "2:57:03 ASMRってすごい https://www.youtube.com/watch?v=Vk0w-bgUrUA&t=10608\n",
            "3:37:07 ASMRもっとください https://www.youtube.com/watch?v=Vk0w-bgUrUA&t=13012\n"
          ]
        }
      ]
    }
  ]
}